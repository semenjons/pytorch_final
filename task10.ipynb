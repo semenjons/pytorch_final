{
 "cells": [
  {
   "cell_type": "markdown",
   "metadata": {},
   "source": []
  },
  {
   "cell_type": "code",
   "execution_count": 3,
   "metadata": {},
   "outputs": [],
   "source": [
    "import cv2\n",
    "import glob\n",
    "from google.protobuf.json_format import MessageToDict\n",
    "import mediapipe as mp\n",
    "import numpy as np\n",
    "import pandas as pd\n",
    "import re\n",
    "from sklearn.linear_model import LogisticRegression\n",
    "from sklearn.metrics import classification_report\n",
    "from sklearn.model_selection import train_test_split\n",
    "from sklearn.preprocessing import MinMaxScaler\n"
   ]
  },
  {
   "cell_type": "code",
   "execution_count": 4,
   "metadata": {},
   "outputs": [],
   "source": [
    "mp_drawing = mp.solutions.drawing_utils\n",
    "mp_drawing_styles = mp.solutions.drawing_styles\n",
    "mp_face_detection = mp.solutions.face_detection\n",
    "mp_hands = mp.solutions.hands"
   ]
  },
  {
   "cell_type": "code",
   "execution_count": 5,
   "metadata": {},
   "outputs": [],
   "source": [
    "\n",
    "files = glob.glob('./leapGestRecog/*/0[13457]*/*') + glob.glob('./leapGestRecog/*/10*/*')"
   ]
  },
  {
   "cell_type": "code",
   "execution_count": 6,
   "metadata": {},
   "outputs": [],
   "source": [
    "\n",
    "\n",
    "def landmarks_to_df(landmarks, df=None, target=None):\n",
    "    \n",
    "   \n",
    "    landmarks = MessageToDict(landmarks[0])['landmark']\n",
    "    \n",
    "    x = np.empty(len(landmarks))\n",
    "    y = np.empty(len(landmarks))\n",
    "    z = np.empty(len(landmarks))\n",
    "    \n",
    "    for i, v in enumerate(landmarks):\n",
    "        x[i] = v['x']\n",
    "        y[i] = v['y']\n",
    "        z[i] = v['z']\n",
    "    \n",
    "    \n",
    "    scaler = MinMaxScaler()\n",
    "    x = scaler.fit_transform(x.reshape(-1, 1)).reshape(1, -1)\n",
    "    y = scaler.fit_transform(y.reshape(-1, 1)).reshape(1, -1)\n",
    "    z = scaler.fit_transform(z.reshape(-1, 1)).reshape(1, -1)\n",
    "    \n",
    "    if target is not None:\n",
    "        features = np.c_[x, y, z, target]\n",
    "    else:\n",
    "        features = np.c_[x, y, z]\n",
    "    \n",
    "    if df is not None:\n",
    "        df = pd.concat((df, pd.DataFrame(features)), axis=0)\n",
    "    else:\n",
    "        df = pd.DataFrame(features)\n",
    "    \n",
    "    return df"
   ]
  },
  {
   "cell_type": "code",
   "execution_count": 7,
   "metadata": {},
   "outputs": [
    {
     "ename": "error",
     "evalue": "OpenCV(4.8.0) D:\\a\\opencv-python\\opencv-python\\opencv\\modules\\imgproc\\src\\color.cpp:182: error: (-215:Assertion failed) !_src.empty() in function 'cv::cvtColor'\n",
     "output_type": "error",
     "traceback": [
      "\u001b[1;31m---------------------------------------------------------------------------\u001b[0m",
      "\u001b[1;31merror\u001b[0m                                     Traceback (most recent call last)",
      "\u001b[1;32mc:\\Ucheba\\DZ\\pytorch_neyro\\pytorch_task10_final\\task10.ipynb Ячейка 6\u001b[0m line \u001b[0;36m8\n\u001b[0;32m      <a href='vscode-notebook-cell:/c%3A/Ucheba/DZ/pytorch_neyro/pytorch_task10_final/task10.ipynb#W5sZmlsZQ%3D%3D?line=5'>6</a>\u001b[0m \u001b[39mfor\u001b[39;00m idx, file \u001b[39min\u001b[39;00m \u001b[39menumerate\u001b[39m(files):\n\u001b[0;32m      <a href='vscode-notebook-cell:/c%3A/Ucheba/DZ/pytorch_neyro/pytorch_task10_final/task10.ipynb#W5sZmlsZQ%3D%3D?line=6'>7</a>\u001b[0m     image \u001b[39m=\u001b[39m cv2\u001b[39m.\u001b[39mimread(file)\n\u001b[1;32m----> <a href='vscode-notebook-cell:/c%3A/Ucheba/DZ/pytorch_neyro/pytorch_task10_final/task10.ipynb#W5sZmlsZQ%3D%3D?line=7'>8</a>\u001b[0m     results \u001b[39m=\u001b[39m hands\u001b[39m.\u001b[39mprocess(cv2\u001b[39m.\u001b[39;49mcvtColor(image, cv2\u001b[39m.\u001b[39;49mCOLOR_BGR2RGB))\n\u001b[0;32m     <a href='vscode-notebook-cell:/c%3A/Ucheba/DZ/pytorch_neyro/pytorch_task10_final/task10.ipynb#W5sZmlsZQ%3D%3D?line=9'>10</a>\u001b[0m     \u001b[39mif\u001b[39;00m \u001b[39mnot\u001b[39;00m results\u001b[39m.\u001b[39mmulti_hand_landmarks:\n\u001b[0;32m     <a href='vscode-notebook-cell:/c%3A/Ucheba/DZ/pytorch_neyro/pytorch_task10_final/task10.ipynb#W5sZmlsZQ%3D%3D?line=10'>11</a>\u001b[0m         \u001b[39mcontinue\u001b[39;00m\n",
      "\u001b[1;31merror\u001b[0m: OpenCV(4.8.0) D:\\a\\opencv-python\\opencv-python\\opencv\\modules\\imgproc\\src\\color.cpp:182: error: (-215:Assertion failed) !_src.empty() in function 'cv::cvtColor'\n"
     ]
    }
   ],
   "source": [
    "\n",
    "\n",
    "mapping_dict = {'03': 1, '07': 2, '10': 3}\n",
    "df = pd.DataFrame()\n",
    "\n",
    "with mp_hands.Hands(max_num_hands=1, static_image_mode=True) as hands:\n",
    "    \n",
    "        for idx, file in enumerate(files):\n",
    "            image = cv2.imread(file)\n",
    "            results = hands.process(cv2.cvtColor(image, cv2.COLOR_BGR2RGB))\n",
    "\n",
    "            if not results.multi_hand_landmarks:\n",
    "                continue\n",
    "            \n",
    "            target = mapping_dict.get(re.findall('frame_\\d{2}_(\\d{2})', file)[0], 0)\n",
    "            df = landmarks_to_df(results.multi_hand_landmarks, df, target)"
   ]
  },
  {
   "cell_type": "code",
   "execution_count": 8,
   "metadata": {},
   "outputs": [
    {
     "data": {
      "text/html": [
       "<div>\n",
       "<style scoped>\n",
       "    .dataframe tbody tr th:only-of-type {\n",
       "        vertical-align: middle;\n",
       "    }\n",
       "\n",
       "    .dataframe tbody tr th {\n",
       "        vertical-align: top;\n",
       "    }\n",
       "\n",
       "    .dataframe thead th {\n",
       "        text-align: right;\n",
       "    }\n",
       "</style>\n",
       "<table border=\"1\" class=\"dataframe\">\n",
       "  <thead>\n",
       "    <tr style=\"text-align: right;\">\n",
       "      <th></th>\n",
       "      <th>0</th>\n",
       "      <th>1</th>\n",
       "      <th>2</th>\n",
       "      <th>3</th>\n",
       "      <th>4</th>\n",
       "      <th>5</th>\n",
       "      <th>6</th>\n",
       "      <th>7</th>\n",
       "      <th>8</th>\n",
       "      <th>9</th>\n",
       "      <th>...</th>\n",
       "      <th>54</th>\n",
       "      <th>55</th>\n",
       "      <th>56</th>\n",
       "      <th>57</th>\n",
       "      <th>58</th>\n",
       "      <th>59</th>\n",
       "      <th>60</th>\n",
       "      <th>61</th>\n",
       "      <th>62</th>\n",
       "      <th>63</th>\n",
       "    </tr>\n",
       "  </thead>\n",
       "  <tbody>\n",
       "    <tr>\n",
       "      <th>0</th>\n",
       "      <td>0.932551</td>\n",
       "      <td>1.000000</td>\n",
       "      <td>0.840035</td>\n",
       "      <td>0.616619</td>\n",
       "      <td>0.396974</td>\n",
       "      <td>0.560857</td>\n",
       "      <td>0.359051</td>\n",
       "      <td>0.326545</td>\n",
       "      <td>0.304288</td>\n",
       "      <td>0.375863</td>\n",
       "      <td>...</td>\n",
       "      <td>0.537024</td>\n",
       "      <td>0.199077</td>\n",
       "      <td>0.376006</td>\n",
       "      <td>0.601129</td>\n",
       "      <td>0.753265</td>\n",
       "      <td>0.197671</td>\n",
       "      <td>0.454545</td>\n",
       "      <td>0.762016</td>\n",
       "      <td>1.0</td>\n",
       "      <td>0.0</td>\n",
       "    </tr>\n",
       "    <tr>\n",
       "      <th>0</th>\n",
       "      <td>0.932551</td>\n",
       "      <td>1.000000</td>\n",
       "      <td>0.840035</td>\n",
       "      <td>0.616619</td>\n",
       "      <td>0.396974</td>\n",
       "      <td>0.560857</td>\n",
       "      <td>0.359051</td>\n",
       "      <td>0.326545</td>\n",
       "      <td>0.304288</td>\n",
       "      <td>0.375863</td>\n",
       "      <td>...</td>\n",
       "      <td>0.537024</td>\n",
       "      <td>0.199077</td>\n",
       "      <td>0.376006</td>\n",
       "      <td>0.601129</td>\n",
       "      <td>0.753265</td>\n",
       "      <td>0.197671</td>\n",
       "      <td>0.454545</td>\n",
       "      <td>0.762016</td>\n",
       "      <td>1.0</td>\n",
       "      <td>0.0</td>\n",
       "    </tr>\n",
       "    <tr>\n",
       "      <th>0</th>\n",
       "      <td>0.543261</td>\n",
       "      <td>0.861219</td>\n",
       "      <td>1.000000</td>\n",
       "      <td>0.935152</td>\n",
       "      <td>0.785339</td>\n",
       "      <td>0.610136</td>\n",
       "      <td>0.583174</td>\n",
       "      <td>0.559931</td>\n",
       "      <td>0.520734</td>\n",
       "      <td>0.366890</td>\n",
       "      <td>...</td>\n",
       "      <td>0.546823</td>\n",
       "      <td>0.482218</td>\n",
       "      <td>0.528118</td>\n",
       "      <td>0.642798</td>\n",
       "      <td>0.699108</td>\n",
       "      <td>0.567163</td>\n",
       "      <td>0.658000</td>\n",
       "      <td>0.845135</td>\n",
       "      <td>1.0</td>\n",
       "      <td>0.0</td>\n",
       "    </tr>\n",
       "    <tr>\n",
       "      <th>0</th>\n",
       "      <td>0.543261</td>\n",
       "      <td>0.861219</td>\n",
       "      <td>1.000000</td>\n",
       "      <td>0.935152</td>\n",
       "      <td>0.785339</td>\n",
       "      <td>0.610136</td>\n",
       "      <td>0.583174</td>\n",
       "      <td>0.559931</td>\n",
       "      <td>0.520734</td>\n",
       "      <td>0.366890</td>\n",
       "      <td>...</td>\n",
       "      <td>0.546823</td>\n",
       "      <td>0.482218</td>\n",
       "      <td>0.528118</td>\n",
       "      <td>0.642798</td>\n",
       "      <td>0.699108</td>\n",
       "      <td>0.567163</td>\n",
       "      <td>0.658000</td>\n",
       "      <td>0.845135</td>\n",
       "      <td>1.0</td>\n",
       "      <td>0.0</td>\n",
       "    </tr>\n",
       "    <tr>\n",
       "      <th>0</th>\n",
       "      <td>0.576677</td>\n",
       "      <td>0.875788</td>\n",
       "      <td>1.000000</td>\n",
       "      <td>0.948283</td>\n",
       "      <td>0.789037</td>\n",
       "      <td>0.685325</td>\n",
       "      <td>0.605910</td>\n",
       "      <td>0.556439</td>\n",
       "      <td>0.486062</td>\n",
       "      <td>0.419823</td>\n",
       "      <td>...</td>\n",
       "      <td>0.314369</td>\n",
       "      <td>0.111222</td>\n",
       "      <td>0.012356</td>\n",
       "      <td>0.313299</td>\n",
       "      <td>0.555948</td>\n",
       "      <td>0.147427</td>\n",
       "      <td>0.180956</td>\n",
       "      <td>0.608599</td>\n",
       "      <td>1.0</td>\n",
       "      <td>0.0</td>\n",
       "    </tr>\n",
       "  </tbody>\n",
       "</table>\n",
       "<p>5 rows × 64 columns</p>\n",
       "</div>"
      ],
      "text/plain": [
       "         0         1         2         3         4         5         6   \\\n",
       "0  0.932551  1.000000  0.840035  0.616619  0.396974  0.560857  0.359051   \n",
       "0  0.932551  1.000000  0.840035  0.616619  0.396974  0.560857  0.359051   \n",
       "0  0.543261  0.861219  1.000000  0.935152  0.785339  0.610136  0.583174   \n",
       "0  0.543261  0.861219  1.000000  0.935152  0.785339  0.610136  0.583174   \n",
       "0  0.576677  0.875788  1.000000  0.948283  0.789037  0.685325  0.605910   \n",
       "\n",
       "         7         8         9   ...        54        55        56        57  \\\n",
       "0  0.326545  0.304288  0.375863  ...  0.537024  0.199077  0.376006  0.601129   \n",
       "0  0.326545  0.304288  0.375863  ...  0.537024  0.199077  0.376006  0.601129   \n",
       "0  0.559931  0.520734  0.366890  ...  0.546823  0.482218  0.528118  0.642798   \n",
       "0  0.559931  0.520734  0.366890  ...  0.546823  0.482218  0.528118  0.642798   \n",
       "0  0.556439  0.486062  0.419823  ...  0.314369  0.111222  0.012356  0.313299   \n",
       "\n",
       "         58        59        60        61   62   63  \n",
       "0  0.753265  0.197671  0.454545  0.762016  1.0  0.0  \n",
       "0  0.753265  0.197671  0.454545  0.762016  1.0  0.0  \n",
       "0  0.699108  0.567163  0.658000  0.845135  1.0  0.0  \n",
       "0  0.699108  0.567163  0.658000  0.845135  1.0  0.0  \n",
       "0  0.555948  0.147427  0.180956  0.608599  1.0  0.0  \n",
       "\n",
       "[5 rows x 64 columns]"
      ]
     },
     "execution_count": 8,
     "metadata": {},
     "output_type": "execute_result"
    }
   ],
   "source": [
    "\n",
    "df.head()"
   ]
  },
  {
   "cell_type": "code",
   "execution_count": 9,
   "metadata": {},
   "outputs": [
    {
     "data": {
      "text/plain": [
       "(4709, 64)"
      ]
     },
     "execution_count": 9,
     "metadata": {},
     "output_type": "execute_result"
    }
   ],
   "source": [
    "df.shape"
   ]
  },
  {
   "cell_type": "code",
   "execution_count": 10,
   "metadata": {},
   "outputs": [
    {
     "data": {
      "text/plain": [
       "0.0    2579\n",
       "2.0    1610\n",
       "1.0     520\n",
       "Name: 63, dtype: int64"
      ]
     },
     "execution_count": 10,
     "metadata": {},
     "output_type": "execute_result"
    }
   ],
   "source": [
    "df[63].value_counts()"
   ]
  },
  {
   "cell_type": "code",
   "execution_count": 11,
   "metadata": {},
   "outputs": [],
   "source": [
    "\n",
    "\n",
    "df.to_csv('./data.csv', index=False)"
   ]
  },
  {
   "cell_type": "code",
   "execution_count": 12,
   "metadata": {},
   "outputs": [],
   "source": [
    "\n",
    "df = pd.read_csv('./data.csv')\n",
    "df.columns = df.columns.astype(int)"
   ]
  },
  {
   "cell_type": "code",
   "execution_count": 13,
   "metadata": {},
   "outputs": [],
   "source": [
    "\n",
    "X_train, X_test, y_train, y_test = train_test_split(df.iloc[:, :-1], df.iloc[:, -1], test_size=0.2, stratify=df[63], random_state=29)"
   ]
  },
  {
   "cell_type": "code",
   "execution_count": 14,
   "metadata": {},
   "outputs": [],
   "source": [
    "\n",
    "model = LogisticRegression(max_iter=400)\n",
    "model.fit(X_train, y_train)\n",
    "preds = model.predict(X_test)"
   ]
  },
  {
   "cell_type": "code",
   "execution_count": 15,
   "metadata": {},
   "outputs": [
    {
     "name": "stdout",
     "output_type": "stream",
     "text": [
      "              precision    recall  f1-score   support\n",
      "\n",
      "         0.0       0.99      0.99      0.99       516\n",
      "         1.0       0.97      0.97      0.97       104\n",
      "         2.0       0.99      1.00      1.00       322\n",
      "\n",
      "    accuracy                           0.99       942\n",
      "   macro avg       0.99      0.99      0.99       942\n",
      "weighted avg       0.99      0.99      0.99       942\n",
      "\n"
     ]
    }
   ],
   "source": [
    "\n",
    "print(classification_report(y_test, preds))"
   ]
  },
  {
   "cell_type": "code",
   "execution_count": 16,
   "metadata": {},
   "outputs": [
    {
     "data": {
      "text/html": [
       "<style>#sk-container-id-1 {color: black;background-color: white;}#sk-container-id-1 pre{padding: 0;}#sk-container-id-1 div.sk-toggleable {background-color: white;}#sk-container-id-1 label.sk-toggleable__label {cursor: pointer;display: block;width: 100%;margin-bottom: 0;padding: 0.3em;box-sizing: border-box;text-align: center;}#sk-container-id-1 label.sk-toggleable__label-arrow:before {content: \"▸\";float: left;margin-right: 0.25em;color: #696969;}#sk-container-id-1 label.sk-toggleable__label-arrow:hover:before {color: black;}#sk-container-id-1 div.sk-estimator:hover label.sk-toggleable__label-arrow:before {color: black;}#sk-container-id-1 div.sk-toggleable__content {max-height: 0;max-width: 0;overflow: hidden;text-align: left;background-color: #f0f8ff;}#sk-container-id-1 div.sk-toggleable__content pre {margin: 0.2em;color: black;border-radius: 0.25em;background-color: #f0f8ff;}#sk-container-id-1 input.sk-toggleable__control:checked~div.sk-toggleable__content {max-height: 200px;max-width: 100%;overflow: auto;}#sk-container-id-1 input.sk-toggleable__control:checked~label.sk-toggleable__label-arrow:before {content: \"▾\";}#sk-container-id-1 div.sk-estimator input.sk-toggleable__control:checked~label.sk-toggleable__label {background-color: #d4ebff;}#sk-container-id-1 div.sk-label input.sk-toggleable__control:checked~label.sk-toggleable__label {background-color: #d4ebff;}#sk-container-id-1 input.sk-hidden--visually {border: 0;clip: rect(1px 1px 1px 1px);clip: rect(1px, 1px, 1px, 1px);height: 1px;margin: -1px;overflow: hidden;padding: 0;position: absolute;width: 1px;}#sk-container-id-1 div.sk-estimator {font-family: monospace;background-color: #f0f8ff;border: 1px dotted black;border-radius: 0.25em;box-sizing: border-box;margin-bottom: 0.5em;}#sk-container-id-1 div.sk-estimator:hover {background-color: #d4ebff;}#sk-container-id-1 div.sk-parallel-item::after {content: \"\";width: 100%;border-bottom: 1px solid gray;flex-grow: 1;}#sk-container-id-1 div.sk-label:hover label.sk-toggleable__label {background-color: #d4ebff;}#sk-container-id-1 div.sk-serial::before {content: \"\";position: absolute;border-left: 1px solid gray;box-sizing: border-box;top: 0;bottom: 0;left: 50%;z-index: 0;}#sk-container-id-1 div.sk-serial {display: flex;flex-direction: column;align-items: center;background-color: white;padding-right: 0.2em;padding-left: 0.2em;position: relative;}#sk-container-id-1 div.sk-item {position: relative;z-index: 1;}#sk-container-id-1 div.sk-parallel {display: flex;align-items: stretch;justify-content: center;background-color: white;position: relative;}#sk-container-id-1 div.sk-item::before, #sk-container-id-1 div.sk-parallel-item::before {content: \"\";position: absolute;border-left: 1px solid gray;box-sizing: border-box;top: 0;bottom: 0;left: 50%;z-index: -1;}#sk-container-id-1 div.sk-parallel-item {display: flex;flex-direction: column;z-index: 1;position: relative;background-color: white;}#sk-container-id-1 div.sk-parallel-item:first-child::after {align-self: flex-end;width: 50%;}#sk-container-id-1 div.sk-parallel-item:last-child::after {align-self: flex-start;width: 50%;}#sk-container-id-1 div.sk-parallel-item:only-child::after {width: 0;}#sk-container-id-1 div.sk-dashed-wrapped {border: 1px dashed gray;margin: 0 0.4em 0.5em 0.4em;box-sizing: border-box;padding-bottom: 0.4em;background-color: white;}#sk-container-id-1 div.sk-label label {font-family: monospace;font-weight: bold;display: inline-block;line-height: 1.2em;}#sk-container-id-1 div.sk-label-container {text-align: center;}#sk-container-id-1 div.sk-container {/* jupyter's `normalize.less` sets `[hidden] { display: none; }` but bootstrap.min.css set `[hidden] { display: none !important; }` so we also need the `!important` here to be able to override the default hidden behavior on the sphinx rendered scikit-learn.org. See: https://github.com/scikit-learn/scikit-learn/issues/21755 */display: inline-block !important;position: relative;}#sk-container-id-1 div.sk-text-repr-fallback {display: none;}</style><div id=\"sk-container-id-1\" class=\"sk-top-container\"><div class=\"sk-text-repr-fallback\"><pre>LogisticRegression(max_iter=400)</pre><b>In a Jupyter environment, please rerun this cell to show the HTML representation or trust the notebook. <br />On GitHub, the HTML representation is unable to render, please try loading this page with nbviewer.org.</b></div><div class=\"sk-container\" hidden><div class=\"sk-item\"><div class=\"sk-estimator sk-toggleable\"><input class=\"sk-toggleable__control sk-hidden--visually\" id=\"sk-estimator-id-1\" type=\"checkbox\" checked><label for=\"sk-estimator-id-1\" class=\"sk-toggleable__label sk-toggleable__label-arrow\">LogisticRegression</label><div class=\"sk-toggleable__content\"><pre>LogisticRegression(max_iter=400)</pre></div></div></div></div></div>"
      ],
      "text/plain": [
       "LogisticRegression(max_iter=400)"
      ]
     },
     "execution_count": 16,
     "metadata": {},
     "output_type": "execute_result"
    }
   ],
   "source": [
    "\n",
    "model.fit(df.iloc[:, :-1], df.iloc[:, -1])"
   ]
  },
  {
   "cell_type": "code",
   "execution_count": 17,
   "metadata": {},
   "outputs": [
    {
     "ename": "KeyboardInterrupt",
     "evalue": "",
     "output_type": "error",
     "traceback": [
      "\u001b[1;31m---------------------------------------------------------------------------\u001b[0m",
      "\u001b[1;31mKeyboardInterrupt\u001b[0m                         Traceback (most recent call last)",
      "\u001b[1;32mc:\\Ucheba\\DZ\\pytorch_neyro\\pytorch_task10_final\\task10.ipynb Ячейка 16\u001b[0m line \u001b[0;36m5\n\u001b[0;32m     <a href='vscode-notebook-cell:/c%3A/Ucheba/DZ/pytorch_neyro/pytorch_task10_final/task10.ipynb#X21sZmlsZQ%3D%3D?line=47'>48</a>\u001b[0m             image \u001b[39m=\u001b[39m cv2\u001b[39m.\u001b[39mcvtColor(image, cv2\u001b[39m.\u001b[39mCOLOR_RGB2BGR)\n\u001b[0;32m     <a href='vscode-notebook-cell:/c%3A/Ucheba/DZ/pytorch_neyro/pytorch_task10_final/task10.ipynb#X21sZmlsZQ%3D%3D?line=48'>49</a>\u001b[0m             cv2\u001b[39m.\u001b[39mimshow(\u001b[39m'\u001b[39m\u001b[39mMediaPipe Hands\u001b[39m\u001b[39m'\u001b[39m, image)\n\u001b[1;32m---> <a href='vscode-notebook-cell:/c%3A/Ucheba/DZ/pytorch_neyro/pytorch_task10_final/task10.ipynb#X21sZmlsZQ%3D%3D?line=49'>50</a>\u001b[0m             \u001b[39mif\u001b[39;00m cv2\u001b[39m.\u001b[39;49mwaitKey(\u001b[39m5\u001b[39;49m) \u001b[39m&\u001b[39m \u001b[39m0xFF\u001b[39m \u001b[39m==\u001b[39m \u001b[39m27\u001b[39m:\n\u001b[0;32m     <a href='vscode-notebook-cell:/c%3A/Ucheba/DZ/pytorch_neyro/pytorch_task10_final/task10.ipynb#X21sZmlsZQ%3D%3D?line=50'>51</a>\u001b[0m                 \u001b[39mbreak\u001b[39;00m\n\u001b[0;32m     <a href='vscode-notebook-cell:/c%3A/Ucheba/DZ/pytorch_neyro/pytorch_task10_final/task10.ipynb#X21sZmlsZQ%3D%3D?line=52'>53</a>\u001b[0m cap\u001b[39m.\u001b[39mrelease()\n",
      "\u001b[1;31mKeyboardInterrupt\u001b[0m: "
     ]
    },
    {
     "ename": "",
     "evalue": "",
     "output_type": "error",
     "traceback": [
      "\u001b[1;31mПри выполнении кода в текущей ячейке или предыдущей ячейке ядро аварийно завершило работу. Проверьте код в ячейках, чтобы определить возможную причину сбоя. Щелкните <a href=\"https://aka.ms/vscodeJupyterKernelCrash\">здесь</a> для получения дополнительных сведений. Подробнее см. в <a href='command:jupyter.viewOutput'>журнале Jupyter</a>."
     ]
    }
   ],
   "source": [
    "\n",
    "cap = cv2.VideoCapture(0)\n",
    "\n",
    "with mp_face_detection.FaceDetection() as face_detection:\n",
    "    with mp_hands.Hands(max_num_hands=1) as hands:\n",
    "        while cap.isOpened():\n",
    "            success, image = cap.read()\n",
    "            if not success:\n",
    "                print('Ignoring empty camera frame.')\n",
    "                continue\n",
    "\n",
    "            image = cv2.cvtColor(image, cv2.COLOR_BGR2RGB)\n",
    "            results = face_detection.process(image)\n",
    "            \n",
    "            if results.detections and MessageToDict(results.detections[0])['score'][0] > 0.85:\n",
    "                \n",
    "                results = hands.process(image)\n",
    "                \n",
    "                if results.multi_hand_landmarks:\n",
    "                    gesture = model.predict_proba(landmarks_to_df(results.multi_hand_landmarks))[0]\n",
    "                    \n",
    "                    if max(gesture) > 0.5:\n",
    "                        gesture = np.argmax(gesture)\n",
    "                        \n",
    "                        match gesture:\n",
    "                            case 0:\n",
    "                                text = 'Unknown sign!'\n",
    "                            case 1:\n",
    "                                text = 'Hello!'\n",
    "                            case 2:\n",
    "                                text = 'OK!'\n",
    "                            case 3:\n",
    "                                text = 'Scary!'\n",
    "                    \n",
    "                    \n",
    "                    else:\n",
    "                        text = 'Is it a sign?'\n",
    "            \n",
    "                \n",
    "                    cv2.putText(image, text, (170, 50),\n",
    "                                cv2.FONT_HERSHEY_COMPLEX,\n",
    "                                1.3, (0, 0, 255), 2)\n",
    "            \n",
    "            else:\n",
    "                cv2.putText(image, 'Is anyone here?', (170, 50),\n",
    "                            cv2.FONT_HERSHEY_COMPLEX,\n",
    "                            1.3, (0, 0, 255), 2)\n",
    "            \n",
    "            image = cv2.cvtColor(image, cv2.COLOR_RGB2BGR)\n",
    "            cv2.imshow('MediaPipe Hands', image)\n",
    "            if cv2.waitKey(5) & 0xFF == 27:\n",
    "                break\n",
    "\n",
    "cap.release()\n",
    "cv2.destroyAllWindows()"
   ]
  },
  {
   "cell_type": "code",
   "execution_count": null,
   "metadata": {},
   "outputs": [],
   "source": []
  }
 ],
 "metadata": {
  "kernelspec": {
   "display_name": "Python 3",
   "language": "python",
   "name": "python3"
  },
  "language_info": {
   "codemirror_mode": {
    "name": "ipython",
    "version": 3
   },
   "file_extension": ".py",
   "mimetype": "text/x-python",
   "name": "python",
   "nbconvert_exporter": "python",
   "pygments_lexer": "ipython3",
   "version": "3.11.5"
  },
  "orig_nbformat": 4
 },
 "nbformat": 4,
 "nbformat_minor": 2
}
